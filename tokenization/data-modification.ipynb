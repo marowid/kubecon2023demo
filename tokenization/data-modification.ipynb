{
 "cells": [
  {
   "cell_type": "code",
   "execution_count": 63,
   "metadata": {
    "collapsed": true
   },
   "outputs": [],
   "source": [
    "import re\n",
    "\n",
    "import faker\n",
    "import pandas as pd"
   ]
  },
  {
   "cell_type": "code",
   "execution_count": 64,
   "outputs": [],
   "source": [
    "def transform_columns(columns):\n",
    "    return [re.sub(\"\\(|\\)\", \"\", re.sub(\"-|--|\\.|\\s\", \"_\", c.lower())).replace(\"__\", \"_\")\n",
    "            for c in columns]"
   ],
   "metadata": {
    "collapsed": false
   }
  },
  {
   "cell_type": "markdown",
   "source": [
    "# Clinical Data Breast Cancer dataset"
   ],
   "metadata": {
    "collapsed": false
   }
  },
  {
   "cell_type": "code",
   "execution_count": 65,
   "outputs": [
    {
     "data": {
      "text/plain": "  Complete TCGA ID  Gender  Age at Initial Pathologic Diagnosis ER Status  \\\n0     TCGA-A2-A0T2  FEMALE                                   66  Negative   \n1     TCGA-A2-A0CM  FEMALE                                   40  Negative   \n2     TCGA-BH-A18V  FEMALE                                   48  Negative   \n3     TCGA-BH-A18Q  FEMALE                                   56  Negative   \n4     TCGA-BH-A0E0  FEMALE                                   38  Negative   \n\n  PR Status HER2 Final Status Tumor Tumor--T1 Coded Node Node-Coded  ...  \\\n0  Negative          Negative    T3         T_Other   N3   Positive  ...   \n1  Negative          Negative    T2         T_Other   N0   Negative  ...   \n2  Negative          Negative    T2         T_Other   N1   Positive  ...   \n3  Negative          Negative    T2         T_Other   N1   Positive  ...   \n4  Negative          Negative    T3         T_Other   N3   Positive  ...   \n\n   PAM50 mRNA SigClust Unsupervised mRNA SigClust Intrinsic mRNA  \\\n0  Basal-like                          0                     -13   \n1  Basal-like                        -12                     -13   \n2  Basal-like                        -12                     -13   \n3  Basal-like                        -12                     -13   \n4  Basal-like                          0                     -13   \n\n  miRNA Clusters methylation Clusters RPPA Clusters  CN Clusters  \\\n0              3                    5         Basal            3   \n1              4                    4         Basal            4   \n2              5                    5         Basal            1   \n3              5                    5         Basal            1   \n4              5                    5         Basal            1   \n\n   Integrated Clusters (with PAM50)  Integrated Clusters (no exp)  \\\n0                                 2                             2   \n1                                 2                             1   \n2                                 2                             2   \n3                                 2                             2   \n4                                 2                             2   \n\n   Integrated Clusters (unsup exp)  \n0                                2  \n1                                1  \n2                                2  \n3                                2  \n4                                2  \n\n[5 rows x 30 columns]",
      "text/html": "<div>\n<style scoped>\n    .dataframe tbody tr th:only-of-type {\n        vertical-align: middle;\n    }\n\n    .dataframe tbody tr th {\n        vertical-align: top;\n    }\n\n    .dataframe thead th {\n        text-align: right;\n    }\n</style>\n<table border=\"1\" class=\"dataframe\">\n  <thead>\n    <tr style=\"text-align: right;\">\n      <th></th>\n      <th>Complete TCGA ID</th>\n      <th>Gender</th>\n      <th>Age at Initial Pathologic Diagnosis</th>\n      <th>ER Status</th>\n      <th>PR Status</th>\n      <th>HER2 Final Status</th>\n      <th>Tumor</th>\n      <th>Tumor--T1 Coded</th>\n      <th>Node</th>\n      <th>Node-Coded</th>\n      <th>...</th>\n      <th>PAM50 mRNA</th>\n      <th>SigClust Unsupervised mRNA</th>\n      <th>SigClust Intrinsic mRNA</th>\n      <th>miRNA Clusters</th>\n      <th>methylation Clusters</th>\n      <th>RPPA Clusters</th>\n      <th>CN Clusters</th>\n      <th>Integrated Clusters (with PAM50)</th>\n      <th>Integrated Clusters (no exp)</th>\n      <th>Integrated Clusters (unsup exp)</th>\n    </tr>\n  </thead>\n  <tbody>\n    <tr>\n      <th>0</th>\n      <td>TCGA-A2-A0T2</td>\n      <td>FEMALE</td>\n      <td>66</td>\n      <td>Negative</td>\n      <td>Negative</td>\n      <td>Negative</td>\n      <td>T3</td>\n      <td>T_Other</td>\n      <td>N3</td>\n      <td>Positive</td>\n      <td>...</td>\n      <td>Basal-like</td>\n      <td>0</td>\n      <td>-13</td>\n      <td>3</td>\n      <td>5</td>\n      <td>Basal</td>\n      <td>3</td>\n      <td>2</td>\n      <td>2</td>\n      <td>2</td>\n    </tr>\n    <tr>\n      <th>1</th>\n      <td>TCGA-A2-A0CM</td>\n      <td>FEMALE</td>\n      <td>40</td>\n      <td>Negative</td>\n      <td>Negative</td>\n      <td>Negative</td>\n      <td>T2</td>\n      <td>T_Other</td>\n      <td>N0</td>\n      <td>Negative</td>\n      <td>...</td>\n      <td>Basal-like</td>\n      <td>-12</td>\n      <td>-13</td>\n      <td>4</td>\n      <td>4</td>\n      <td>Basal</td>\n      <td>4</td>\n      <td>2</td>\n      <td>1</td>\n      <td>1</td>\n    </tr>\n    <tr>\n      <th>2</th>\n      <td>TCGA-BH-A18V</td>\n      <td>FEMALE</td>\n      <td>48</td>\n      <td>Negative</td>\n      <td>Negative</td>\n      <td>Negative</td>\n      <td>T2</td>\n      <td>T_Other</td>\n      <td>N1</td>\n      <td>Positive</td>\n      <td>...</td>\n      <td>Basal-like</td>\n      <td>-12</td>\n      <td>-13</td>\n      <td>5</td>\n      <td>5</td>\n      <td>Basal</td>\n      <td>1</td>\n      <td>2</td>\n      <td>2</td>\n      <td>2</td>\n    </tr>\n    <tr>\n      <th>3</th>\n      <td>TCGA-BH-A18Q</td>\n      <td>FEMALE</td>\n      <td>56</td>\n      <td>Negative</td>\n      <td>Negative</td>\n      <td>Negative</td>\n      <td>T2</td>\n      <td>T_Other</td>\n      <td>N1</td>\n      <td>Positive</td>\n      <td>...</td>\n      <td>Basal-like</td>\n      <td>-12</td>\n      <td>-13</td>\n      <td>5</td>\n      <td>5</td>\n      <td>Basal</td>\n      <td>1</td>\n      <td>2</td>\n      <td>2</td>\n      <td>2</td>\n    </tr>\n    <tr>\n      <th>4</th>\n      <td>TCGA-BH-A0E0</td>\n      <td>FEMALE</td>\n      <td>38</td>\n      <td>Negative</td>\n      <td>Negative</td>\n      <td>Negative</td>\n      <td>T3</td>\n      <td>T_Other</td>\n      <td>N3</td>\n      <td>Positive</td>\n      <td>...</td>\n      <td>Basal-like</td>\n      <td>0</td>\n      <td>-13</td>\n      <td>5</td>\n      <td>5</td>\n      <td>Basal</td>\n      <td>1</td>\n      <td>2</td>\n      <td>2</td>\n      <td>2</td>\n    </tr>\n  </tbody>\n</table>\n<p>5 rows × 30 columns</p>\n</div>"
     },
     "execution_count": 65,
     "metadata": {},
     "output_type": "execute_result"
    }
   ],
   "source": [
    "df_breast_cancer = pd.read_csv(\"./data/clinical_data_breast_cancer.csv\")\n",
    "df_breast_cancer.head()"
   ],
   "metadata": {
    "collapsed": false
   }
  },
  {
   "cell_type": "code",
   "execution_count": 66,
   "outputs": [
    {
     "name": "stdout",
     "output_type": "stream",
     "text": [
      "<class 'pandas.core.frame.DataFrame'>\n",
      "RangeIndex: 105 entries, 0 to 104\n",
      "Data columns (total 30 columns):\n",
      " #   Column                               Non-Null Count  Dtype  \n",
      "---  ------                               --------------  -----  \n",
      " 0   Complete TCGA ID                     105 non-null    object \n",
      " 1   Gender                               105 non-null    object \n",
      " 2   Age at Initial Pathologic Diagnosis  105 non-null    int64  \n",
      " 3   ER Status                            105 non-null    object \n",
      " 4   PR Status                            105 non-null    object \n",
      " 5   HER2 Final Status                    105 non-null    object \n",
      " 6   Tumor                                105 non-null    object \n",
      " 7   Tumor--T1 Coded                      105 non-null    object \n",
      " 8   Node                                 105 non-null    object \n",
      " 9   Node-Coded                           105 non-null    object \n",
      " 10  Metastasis                           105 non-null    object \n",
      " 11  Metastasis-Coded                     105 non-null    object \n",
      " 12  AJCC Stage                           105 non-null    object \n",
      " 13  Converted Stage                      105 non-null    object \n",
      " 14  Survival Data Form                   105 non-null    object \n",
      " 15  Vital Status                         105 non-null    object \n",
      " 16  Days to Date of Last Contact         105 non-null    int64  \n",
      " 17  Days to date of Death                11 non-null     float64\n",
      " 18  OS event                             105 non-null    int64  \n",
      " 19  OS Time                              105 non-null    int64  \n",
      " 20  PAM50 mRNA                           105 non-null    object \n",
      " 21  SigClust Unsupervised mRNA           105 non-null    int64  \n",
      " 22  SigClust Intrinsic mRNA              105 non-null    int64  \n",
      " 23  miRNA Clusters                       105 non-null    int64  \n",
      " 24  methylation Clusters                 105 non-null    int64  \n",
      " 25  RPPA Clusters                        105 non-null    object \n",
      " 26  CN Clusters                          105 non-null    int64  \n",
      " 27  Integrated Clusters (with PAM50)     105 non-null    int64  \n",
      " 28  Integrated Clusters (no exp)         105 non-null    int64  \n",
      " 29  Integrated Clusters (unsup exp)      105 non-null    int64  \n",
      "dtypes: float64(1), int64(12), object(17)\n",
      "memory usage: 24.7+ KB\n"
     ]
    }
   ],
   "source": [
    "df_breast_cancer.info()"
   ],
   "metadata": {
    "collapsed": false
   }
  },
  {
   "cell_type": "code",
   "execution_count": 67,
   "outputs": [],
   "source": [
    "fake = faker.Faker()"
   ],
   "metadata": {
    "collapsed": false
   }
  },
  {
   "cell_type": "code",
   "execution_count": 68,
   "outputs": [
    {
     "data": {
      "text/plain": "  complete_tcga_id  gender  age_at_initial_pathologic_diagnosis er_status  \\\n0     TCGA-A2-A0T2  FEMALE                                   66  Negative   \n1     TCGA-A2-A0CM  FEMALE                                   40  Negative   \n2     TCGA-BH-A18V  FEMALE                                   48  Negative   \n3     TCGA-BH-A18Q  FEMALE                                   56  Negative   \n4     TCGA-BH-A0E0  FEMALE                                   38  Negative   \n\n  pr_status her2_final_status tumor tumor_t1_coded node node_coded  ...  \\\n0  Negative          Negative    T3        T_Other   N3   Positive  ...   \n1  Negative          Negative    T2        T_Other   N0   Negative  ...   \n2  Negative          Negative    T2        T_Other   N1   Positive  ...   \n3  Negative          Negative    T2        T_Other   N1   Positive  ...   \n4  Negative          Negative    T3        T_Other   N3   Positive  ...   \n\n  sigclust_intrinsic_mrna mirna_clusters methylation_clusters rppa_clusters  \\\n0                     -13              3                    5         Basal   \n1                     -13              4                    4         Basal   \n2                     -13              5                    5         Basal   \n3                     -13              5                    5         Basal   \n4                     -13              5                    5         Basal   \n\n  cn_clusters integrated_clusters_with_pam50  integrated_clusters_no_exp  \\\n0           3                              2                           2   \n1           4                              2                           1   \n2           1                              2                           2   \n3           1                              2                           2   \n4           1                              2                           2   \n\n   integrated_clusters_unsup_exp  first_name  last_name  \n0                              2      Amanda       Ryan  \n1                              1     Kathryn       Beck  \n2                              2      Cheryl       Page  \n3                              2       Maria     Conner  \n4                              2  Alexandria    Carlson  \n\n[5 rows x 32 columns]",
      "text/html": "<div>\n<style scoped>\n    .dataframe tbody tr th:only-of-type {\n        vertical-align: middle;\n    }\n\n    .dataframe tbody tr th {\n        vertical-align: top;\n    }\n\n    .dataframe thead th {\n        text-align: right;\n    }\n</style>\n<table border=\"1\" class=\"dataframe\">\n  <thead>\n    <tr style=\"text-align: right;\">\n      <th></th>\n      <th>complete_tcga_id</th>\n      <th>gender</th>\n      <th>age_at_initial_pathologic_diagnosis</th>\n      <th>er_status</th>\n      <th>pr_status</th>\n      <th>her2_final_status</th>\n      <th>tumor</th>\n      <th>tumor_t1_coded</th>\n      <th>node</th>\n      <th>node_coded</th>\n      <th>...</th>\n      <th>sigclust_intrinsic_mrna</th>\n      <th>mirna_clusters</th>\n      <th>methylation_clusters</th>\n      <th>rppa_clusters</th>\n      <th>cn_clusters</th>\n      <th>integrated_clusters_with_pam50</th>\n      <th>integrated_clusters_no_exp</th>\n      <th>integrated_clusters_unsup_exp</th>\n      <th>first_name</th>\n      <th>last_name</th>\n    </tr>\n  </thead>\n  <tbody>\n    <tr>\n      <th>0</th>\n      <td>TCGA-A2-A0T2</td>\n      <td>FEMALE</td>\n      <td>66</td>\n      <td>Negative</td>\n      <td>Negative</td>\n      <td>Negative</td>\n      <td>T3</td>\n      <td>T_Other</td>\n      <td>N3</td>\n      <td>Positive</td>\n      <td>...</td>\n      <td>-13</td>\n      <td>3</td>\n      <td>5</td>\n      <td>Basal</td>\n      <td>3</td>\n      <td>2</td>\n      <td>2</td>\n      <td>2</td>\n      <td>Amanda</td>\n      <td>Ryan</td>\n    </tr>\n    <tr>\n      <th>1</th>\n      <td>TCGA-A2-A0CM</td>\n      <td>FEMALE</td>\n      <td>40</td>\n      <td>Negative</td>\n      <td>Negative</td>\n      <td>Negative</td>\n      <td>T2</td>\n      <td>T_Other</td>\n      <td>N0</td>\n      <td>Negative</td>\n      <td>...</td>\n      <td>-13</td>\n      <td>4</td>\n      <td>4</td>\n      <td>Basal</td>\n      <td>4</td>\n      <td>2</td>\n      <td>1</td>\n      <td>1</td>\n      <td>Kathryn</td>\n      <td>Beck</td>\n    </tr>\n    <tr>\n      <th>2</th>\n      <td>TCGA-BH-A18V</td>\n      <td>FEMALE</td>\n      <td>48</td>\n      <td>Negative</td>\n      <td>Negative</td>\n      <td>Negative</td>\n      <td>T2</td>\n      <td>T_Other</td>\n      <td>N1</td>\n      <td>Positive</td>\n      <td>...</td>\n      <td>-13</td>\n      <td>5</td>\n      <td>5</td>\n      <td>Basal</td>\n      <td>1</td>\n      <td>2</td>\n      <td>2</td>\n      <td>2</td>\n      <td>Cheryl</td>\n      <td>Page</td>\n    </tr>\n    <tr>\n      <th>3</th>\n      <td>TCGA-BH-A18Q</td>\n      <td>FEMALE</td>\n      <td>56</td>\n      <td>Negative</td>\n      <td>Negative</td>\n      <td>Negative</td>\n      <td>T2</td>\n      <td>T_Other</td>\n      <td>N1</td>\n      <td>Positive</td>\n      <td>...</td>\n      <td>-13</td>\n      <td>5</td>\n      <td>5</td>\n      <td>Basal</td>\n      <td>1</td>\n      <td>2</td>\n      <td>2</td>\n      <td>2</td>\n      <td>Maria</td>\n      <td>Conner</td>\n    </tr>\n    <tr>\n      <th>4</th>\n      <td>TCGA-BH-A0E0</td>\n      <td>FEMALE</td>\n      <td>38</td>\n      <td>Negative</td>\n      <td>Negative</td>\n      <td>Negative</td>\n      <td>T3</td>\n      <td>T_Other</td>\n      <td>N3</td>\n      <td>Positive</td>\n      <td>...</td>\n      <td>-13</td>\n      <td>5</td>\n      <td>5</td>\n      <td>Basal</td>\n      <td>1</td>\n      <td>2</td>\n      <td>2</td>\n      <td>2</td>\n      <td>Alexandria</td>\n      <td>Carlson</td>\n    </tr>\n  </tbody>\n</table>\n<p>5 rows × 32 columns</p>\n</div>"
     },
     "execution_count": 68,
     "metadata": {},
     "output_type": "execute_result"
    }
   ],
   "source": [
    "df_breast_cancer[\"First Name\"] = [fake.first_name_female() for _ in\n",
    "                                  range(df_breast_cancer.shape[0])]\n",
    "df_breast_cancer[\"Last Name\"] = [fake.last_name_female() for _ in range(df_breast_cancer.shape[0])]\n",
    "df_breast_cancer.columns = transform_columns(df_breast_cancer.columns)\n",
    "df_breast_cancer.head()"
   ],
   "metadata": {
    "collapsed": false
   }
  },
  {
   "cell_type": "code",
   "execution_count": 69,
   "outputs": [],
   "source": [
    "df_breast_cancer.to_csv(\"./data/clinical_data_breast_cancer_with_columns.csv\", index=False)"
   ],
   "metadata": {
    "collapsed": false
   }
  },
  {
   "cell_type": "code",
   "execution_count": 70,
   "outputs": [
    {
     "data": {
      "text/plain": "  complete_tcga_id  gender  age_at_initial_pathologic_diagnosis er_status  \\\n0     TCGA-A2-A0T2  FEMALE                                   66  Negative   \n1     TCGA-A2-A0CM  FEMALE                                   40  Negative   \n2     TCGA-BH-A18V  FEMALE                                   48  Negative   \n3     TCGA-BH-A18Q  FEMALE                                   56  Negative   \n4     TCGA-BH-A0E0  FEMALE                                   38  Negative   \n\n  pr_status her2_final_status tumor tumor_t1_coded node node_coded  ...  \\\n0  Negative          Negative    T3        T_Other   N3   Positive  ...   \n1  Negative          Negative    T2        T_Other   N0   Negative  ...   \n2  Negative          Negative    T2        T_Other   N1   Positive  ...   \n3  Negative          Negative    T2        T_Other   N1   Positive  ...   \n4  Negative          Negative    T3        T_Other   N3   Positive  ...   \n\n  sigclust_intrinsic_mrna mirna_clusters methylation_clusters rppa_clusters  \\\n0                     -13              3                    5         Basal   \n1                     -13              4                    4         Basal   \n2                     -13              5                    5         Basal   \n3                     -13              5                    5         Basal   \n4                     -13              5                    5         Basal   \n\n  cn_clusters integrated_clusters_with_pam50  integrated_clusters_no_exp  \\\n0           3                              2                           2   \n1           4                              2                           1   \n2           1                              2                           2   \n3           1                              2                           2   \n4           1                              2                           2   \n\n   integrated_clusters_unsup_exp  first_name  last_name  \n0                              2      Amanda       Ryan  \n1                              1     Kathryn       Beck  \n2                              2      Cheryl       Page  \n3                              2       Maria     Conner  \n4                              2  Alexandria    Carlson  \n\n[5 rows x 32 columns]",
      "text/html": "<div>\n<style scoped>\n    .dataframe tbody tr th:only-of-type {\n        vertical-align: middle;\n    }\n\n    .dataframe tbody tr th {\n        vertical-align: top;\n    }\n\n    .dataframe thead th {\n        text-align: right;\n    }\n</style>\n<table border=\"1\" class=\"dataframe\">\n  <thead>\n    <tr style=\"text-align: right;\">\n      <th></th>\n      <th>complete_tcga_id</th>\n      <th>gender</th>\n      <th>age_at_initial_pathologic_diagnosis</th>\n      <th>er_status</th>\n      <th>pr_status</th>\n      <th>her2_final_status</th>\n      <th>tumor</th>\n      <th>tumor_t1_coded</th>\n      <th>node</th>\n      <th>node_coded</th>\n      <th>...</th>\n      <th>sigclust_intrinsic_mrna</th>\n      <th>mirna_clusters</th>\n      <th>methylation_clusters</th>\n      <th>rppa_clusters</th>\n      <th>cn_clusters</th>\n      <th>integrated_clusters_with_pam50</th>\n      <th>integrated_clusters_no_exp</th>\n      <th>integrated_clusters_unsup_exp</th>\n      <th>first_name</th>\n      <th>last_name</th>\n    </tr>\n  </thead>\n  <tbody>\n    <tr>\n      <th>0</th>\n      <td>TCGA-A2-A0T2</td>\n      <td>FEMALE</td>\n      <td>66</td>\n      <td>Negative</td>\n      <td>Negative</td>\n      <td>Negative</td>\n      <td>T3</td>\n      <td>T_Other</td>\n      <td>N3</td>\n      <td>Positive</td>\n      <td>...</td>\n      <td>-13</td>\n      <td>3</td>\n      <td>5</td>\n      <td>Basal</td>\n      <td>3</td>\n      <td>2</td>\n      <td>2</td>\n      <td>2</td>\n      <td>Amanda</td>\n      <td>Ryan</td>\n    </tr>\n    <tr>\n      <th>1</th>\n      <td>TCGA-A2-A0CM</td>\n      <td>FEMALE</td>\n      <td>40</td>\n      <td>Negative</td>\n      <td>Negative</td>\n      <td>Negative</td>\n      <td>T2</td>\n      <td>T_Other</td>\n      <td>N0</td>\n      <td>Negative</td>\n      <td>...</td>\n      <td>-13</td>\n      <td>4</td>\n      <td>4</td>\n      <td>Basal</td>\n      <td>4</td>\n      <td>2</td>\n      <td>1</td>\n      <td>1</td>\n      <td>Kathryn</td>\n      <td>Beck</td>\n    </tr>\n    <tr>\n      <th>2</th>\n      <td>TCGA-BH-A18V</td>\n      <td>FEMALE</td>\n      <td>48</td>\n      <td>Negative</td>\n      <td>Negative</td>\n      <td>Negative</td>\n      <td>T2</td>\n      <td>T_Other</td>\n      <td>N1</td>\n      <td>Positive</td>\n      <td>...</td>\n      <td>-13</td>\n      <td>5</td>\n      <td>5</td>\n      <td>Basal</td>\n      <td>1</td>\n      <td>2</td>\n      <td>2</td>\n      <td>2</td>\n      <td>Cheryl</td>\n      <td>Page</td>\n    </tr>\n    <tr>\n      <th>3</th>\n      <td>TCGA-BH-A18Q</td>\n      <td>FEMALE</td>\n      <td>56</td>\n      <td>Negative</td>\n      <td>Negative</td>\n      <td>Negative</td>\n      <td>T2</td>\n      <td>T_Other</td>\n      <td>N1</td>\n      <td>Positive</td>\n      <td>...</td>\n      <td>-13</td>\n      <td>5</td>\n      <td>5</td>\n      <td>Basal</td>\n      <td>1</td>\n      <td>2</td>\n      <td>2</td>\n      <td>2</td>\n      <td>Maria</td>\n      <td>Conner</td>\n    </tr>\n    <tr>\n      <th>4</th>\n      <td>TCGA-BH-A0E0</td>\n      <td>FEMALE</td>\n      <td>38</td>\n      <td>Negative</td>\n      <td>Negative</td>\n      <td>Negative</td>\n      <td>T3</td>\n      <td>T_Other</td>\n      <td>N3</td>\n      <td>Positive</td>\n      <td>...</td>\n      <td>-13</td>\n      <td>5</td>\n      <td>5</td>\n      <td>Basal</td>\n      <td>1</td>\n      <td>2</td>\n      <td>2</td>\n      <td>2</td>\n      <td>Alexandria</td>\n      <td>Carlson</td>\n    </tr>\n  </tbody>\n</table>\n<p>5 rows × 32 columns</p>\n</div>"
     },
     "execution_count": 70,
     "metadata": {},
     "output_type": "execute_result"
    }
   ],
   "source": [
    "read_csv = pd.read_csv(\"./data/clinical_data_breast_cancer_with_columns.csv\")\n",
    "read_csv.head()"
   ],
   "metadata": {
    "collapsed": false
   }
  },
  {
   "cell_type": "markdown",
   "source": [
    "# PAM50 proteins dataset"
   ],
   "metadata": {
    "collapsed": false
   }
  },
  {
   "cell_type": "code",
   "execution_count": 71,
   "outputs": [
    {
     "data": {
      "text/plain": "  GeneSymbol RefSeqProteinID       Species  \\\n0        MIA       NP_006524  Homo sapiens   \n1      FGFR4       NP_002002  Homo sapiens   \n2      FGFR4       NP_998812  Homo sapiens   \n3      FGFR4       NP_075252  Homo sapiens   \n4     GPR160       NP_055188  Homo sapiens   \n\n                             Gene Name  \n0         melanoma inhibitory activity  \n1  fibroblast growth factor receptor 4  \n2  fibroblast growth factor receptor 4  \n3  fibroblast growth factor receptor 4  \n4       G protein-coupled receptor 160  ",
      "text/html": "<div>\n<style scoped>\n    .dataframe tbody tr th:only-of-type {\n        vertical-align: middle;\n    }\n\n    .dataframe tbody tr th {\n        vertical-align: top;\n    }\n\n    .dataframe thead th {\n        text-align: right;\n    }\n</style>\n<table border=\"1\" class=\"dataframe\">\n  <thead>\n    <tr style=\"text-align: right;\">\n      <th></th>\n      <th>GeneSymbol</th>\n      <th>RefSeqProteinID</th>\n      <th>Species</th>\n      <th>Gene Name</th>\n    </tr>\n  </thead>\n  <tbody>\n    <tr>\n      <th>0</th>\n      <td>MIA</td>\n      <td>NP_006524</td>\n      <td>Homo sapiens</td>\n      <td>melanoma inhibitory activity</td>\n    </tr>\n    <tr>\n      <th>1</th>\n      <td>FGFR4</td>\n      <td>NP_002002</td>\n      <td>Homo sapiens</td>\n      <td>fibroblast growth factor receptor 4</td>\n    </tr>\n    <tr>\n      <th>2</th>\n      <td>FGFR4</td>\n      <td>NP_998812</td>\n      <td>Homo sapiens</td>\n      <td>fibroblast growth factor receptor 4</td>\n    </tr>\n    <tr>\n      <th>3</th>\n      <td>FGFR4</td>\n      <td>NP_075252</td>\n      <td>Homo sapiens</td>\n      <td>fibroblast growth factor receptor 4</td>\n    </tr>\n    <tr>\n      <th>4</th>\n      <td>GPR160</td>\n      <td>NP_055188</td>\n      <td>Homo sapiens</td>\n      <td>G protein-coupled receptor 160</td>\n    </tr>\n  </tbody>\n</table>\n</div>"
     },
     "execution_count": 71,
     "metadata": {},
     "output_type": "execute_result"
    }
   ],
   "source": [
    "df_pam50 =pd.read_csv(\"./data/PAM50_proteins.csv\")\n",
    "df_pam50.head()"
   ],
   "metadata": {
    "collapsed": false
   }
  },
  {
   "cell_type": "code",
   "execution_count": 72,
   "outputs": [
    {
     "data": {
      "text/plain": "  genesymbol refseqproteinid       species  \\\n0        MIA       NP_006524  Homo sapiens   \n1      FGFR4       NP_002002  Homo sapiens   \n2      FGFR4       NP_998812  Homo sapiens   \n3      FGFR4       NP_075252  Homo sapiens   \n4     GPR160       NP_055188  Homo sapiens   \n\n                             gene_name  \n0         melanoma inhibitory activity  \n1  fibroblast growth factor receptor 4  \n2  fibroblast growth factor receptor 4  \n3  fibroblast growth factor receptor 4  \n4       G protein-coupled receptor 160  ",
      "text/html": "<div>\n<style scoped>\n    .dataframe tbody tr th:only-of-type {\n        vertical-align: middle;\n    }\n\n    .dataframe tbody tr th {\n        vertical-align: top;\n    }\n\n    .dataframe thead th {\n        text-align: right;\n    }\n</style>\n<table border=\"1\" class=\"dataframe\">\n  <thead>\n    <tr style=\"text-align: right;\">\n      <th></th>\n      <th>genesymbol</th>\n      <th>refseqproteinid</th>\n      <th>species</th>\n      <th>gene_name</th>\n    </tr>\n  </thead>\n  <tbody>\n    <tr>\n      <th>0</th>\n      <td>MIA</td>\n      <td>NP_006524</td>\n      <td>Homo sapiens</td>\n      <td>melanoma inhibitory activity</td>\n    </tr>\n    <tr>\n      <th>1</th>\n      <td>FGFR4</td>\n      <td>NP_002002</td>\n      <td>Homo sapiens</td>\n      <td>fibroblast growth factor receptor 4</td>\n    </tr>\n    <tr>\n      <th>2</th>\n      <td>FGFR4</td>\n      <td>NP_998812</td>\n      <td>Homo sapiens</td>\n      <td>fibroblast growth factor receptor 4</td>\n    </tr>\n    <tr>\n      <th>3</th>\n      <td>FGFR4</td>\n      <td>NP_075252</td>\n      <td>Homo sapiens</td>\n      <td>fibroblast growth factor receptor 4</td>\n    </tr>\n    <tr>\n      <th>4</th>\n      <td>GPR160</td>\n      <td>NP_055188</td>\n      <td>Homo sapiens</td>\n      <td>G protein-coupled receptor 160</td>\n    </tr>\n  </tbody>\n</table>\n</div>"
     },
     "execution_count": 72,
     "metadata": {},
     "output_type": "execute_result"
    }
   ],
   "source": [
    "df_pam50.columns = transform_columns(df_pam50.columns)\n",
    "df_pam50.head()"
   ],
   "metadata": {
    "collapsed": false
   }
  },
  {
   "cell_type": "code",
   "execution_count": 73,
   "outputs": [
    {
     "data": {
      "text/plain": "  genesymbol refseqproteinid       species  \\\n0        MIA       NP_006524  Homo sapiens   \n1      FGFR4       NP_002002  Homo sapiens   \n2      FGFR4       NP_998812  Homo sapiens   \n3      FGFR4       NP_075252  Homo sapiens   \n4     GPR160       NP_055188  Homo sapiens   \n\n                             gene_name  \n0         melanoma inhibitory activity  \n1  fibroblast growth factor receptor 4  \n2  fibroblast growth factor receptor 4  \n3  fibroblast growth factor receptor 4  \n4       G protein-coupled receptor 160  ",
      "text/html": "<div>\n<style scoped>\n    .dataframe tbody tr th:only-of-type {\n        vertical-align: middle;\n    }\n\n    .dataframe tbody tr th {\n        vertical-align: top;\n    }\n\n    .dataframe thead th {\n        text-align: right;\n    }\n</style>\n<table border=\"1\" class=\"dataframe\">\n  <thead>\n    <tr style=\"text-align: right;\">\n      <th></th>\n      <th>genesymbol</th>\n      <th>refseqproteinid</th>\n      <th>species</th>\n      <th>gene_name</th>\n    </tr>\n  </thead>\n  <tbody>\n    <tr>\n      <th>0</th>\n      <td>MIA</td>\n      <td>NP_006524</td>\n      <td>Homo sapiens</td>\n      <td>melanoma inhibitory activity</td>\n    </tr>\n    <tr>\n      <th>1</th>\n      <td>FGFR4</td>\n      <td>NP_002002</td>\n      <td>Homo sapiens</td>\n      <td>fibroblast growth factor receptor 4</td>\n    </tr>\n    <tr>\n      <th>2</th>\n      <td>FGFR4</td>\n      <td>NP_998812</td>\n      <td>Homo sapiens</td>\n      <td>fibroblast growth factor receptor 4</td>\n    </tr>\n    <tr>\n      <th>3</th>\n      <td>FGFR4</td>\n      <td>NP_075252</td>\n      <td>Homo sapiens</td>\n      <td>fibroblast growth factor receptor 4</td>\n    </tr>\n    <tr>\n      <th>4</th>\n      <td>GPR160</td>\n      <td>NP_055188</td>\n      <td>Homo sapiens</td>\n      <td>G protein-coupled receptor 160</td>\n    </tr>\n  </tbody>\n</table>\n</div>"
     },
     "execution_count": 73,
     "metadata": {},
     "output_type": "execute_result"
    }
   ],
   "source": [
    "df_pam50.to_csv(\"./data/PAM50_proteins_with_columns.csv\", index=False)\n",
    "read_df_pam50 = pd.read_csv(\"./data/PAM50_proteins_with_columns.csv\")\n",
    "read_df_pam50.head()"
   ],
   "metadata": {
    "collapsed": false
   }
  },
  {
   "cell_type": "markdown",
   "source": [
    "# 77 Cancer Proteomes"
   ],
   "metadata": {
    "collapsed": false
   }
  },
  {
   "cell_type": "code",
   "execution_count": 74,
   "outputs": [
    {
     "data": {
      "text/plain": "  refseq_accession_number gene_symbol           gene_name  ao_a12d_01tcga  \\\n0               NP_958782        PLEC   plectin isoform 1        1.096131   \n1               NP_958785         NaN  plectin isoform 1g        1.111370   \n2               NP_958786        PLEC  plectin isoform 1a        1.111370   \n3               NP_000436         NaN  plectin isoform 1c        1.107561   \n4               NP_958781         NaN  plectin isoform 1e        1.115180   \n\n   c8_a131_01tcga  ao_a12b_01tcga  bh_a18q_02tcga  c8_a130_02tcga  \\\n0        2.609943       -0.659828        0.195341       -0.494060   \n1        2.650422       -0.648742        0.215413       -0.503899   \n2        2.650422       -0.654285        0.215413       -0.500619   \n3        2.646374       -0.632113        0.205377       -0.510459   \n4        2.646374       -0.640428        0.215413       -0.503899   \n\n   c8_a138_03tcga  e2_a154_03tcga  ...  ao_a12b_34tcga  a2_a0sw_35tcga  \\\n0        2.765081        0.862659  ...       -0.963904       -0.487772   \n1        2.779709        0.870186  ...       -0.938210       -0.487772   \n2        2.779709        0.870186  ...       -0.943919       -0.487772   \n3        2.797995        0.866423  ...       -0.935355       -0.487772   \n4        2.787023        0.870186  ...       -0.935355       -0.503853   \n\n   ao_a0jl_35tcga  bh_a0bv_35tcga  a2_a0ym_36tcga  bh_a0c7_36tcga  \\\n0        -0.10668       -0.065838        0.655850       -0.552212   \n1        -0.10668       -0.055893        0.658143       -0.547749   \n2        -0.10668       -0.065838        0.655850       -0.552212   \n3        -0.10668       -0.055893        0.655850       -0.552212   \n4        -0.10668       -0.062523        0.651264       -0.556675   \n\n   a2_a0sx_36tcga  263d3f_i_cptac  blcdb9_i_cptac  c4155b_c_cptac  \n0       -0.398560        0.598585       -0.191285        0.566975  \n1       -0.392601        0.606697       -0.183918        0.578702  \n2       -0.392601        0.603993       -0.186022        0.576747  \n3       -0.392601        0.603993       -0.186022        0.576747  \n4       -0.395581        0.603993       -0.167079        0.576747  \n\n[5 rows x 86 columns]",
      "text/html": "<div>\n<style scoped>\n    .dataframe tbody tr th:only-of-type {\n        vertical-align: middle;\n    }\n\n    .dataframe tbody tr th {\n        vertical-align: top;\n    }\n\n    .dataframe thead th {\n        text-align: right;\n    }\n</style>\n<table border=\"1\" class=\"dataframe\">\n  <thead>\n    <tr style=\"text-align: right;\">\n      <th></th>\n      <th>refseq_accession_number</th>\n      <th>gene_symbol</th>\n      <th>gene_name</th>\n      <th>ao_a12d_01tcga</th>\n      <th>c8_a131_01tcga</th>\n      <th>ao_a12b_01tcga</th>\n      <th>bh_a18q_02tcga</th>\n      <th>c8_a130_02tcga</th>\n      <th>c8_a138_03tcga</th>\n      <th>e2_a154_03tcga</th>\n      <th>...</th>\n      <th>ao_a12b_34tcga</th>\n      <th>a2_a0sw_35tcga</th>\n      <th>ao_a0jl_35tcga</th>\n      <th>bh_a0bv_35tcga</th>\n      <th>a2_a0ym_36tcga</th>\n      <th>bh_a0c7_36tcga</th>\n      <th>a2_a0sx_36tcga</th>\n      <th>263d3f_i_cptac</th>\n      <th>blcdb9_i_cptac</th>\n      <th>c4155b_c_cptac</th>\n    </tr>\n  </thead>\n  <tbody>\n    <tr>\n      <th>0</th>\n      <td>NP_958782</td>\n      <td>PLEC</td>\n      <td>plectin isoform 1</td>\n      <td>1.096131</td>\n      <td>2.609943</td>\n      <td>-0.659828</td>\n      <td>0.195341</td>\n      <td>-0.494060</td>\n      <td>2.765081</td>\n      <td>0.862659</td>\n      <td>...</td>\n      <td>-0.963904</td>\n      <td>-0.487772</td>\n      <td>-0.10668</td>\n      <td>-0.065838</td>\n      <td>0.655850</td>\n      <td>-0.552212</td>\n      <td>-0.398560</td>\n      <td>0.598585</td>\n      <td>-0.191285</td>\n      <td>0.566975</td>\n    </tr>\n    <tr>\n      <th>1</th>\n      <td>NP_958785</td>\n      <td>NaN</td>\n      <td>plectin isoform 1g</td>\n      <td>1.111370</td>\n      <td>2.650422</td>\n      <td>-0.648742</td>\n      <td>0.215413</td>\n      <td>-0.503899</td>\n      <td>2.779709</td>\n      <td>0.870186</td>\n      <td>...</td>\n      <td>-0.938210</td>\n      <td>-0.487772</td>\n      <td>-0.10668</td>\n      <td>-0.055893</td>\n      <td>0.658143</td>\n      <td>-0.547749</td>\n      <td>-0.392601</td>\n      <td>0.606697</td>\n      <td>-0.183918</td>\n      <td>0.578702</td>\n    </tr>\n    <tr>\n      <th>2</th>\n      <td>NP_958786</td>\n      <td>PLEC</td>\n      <td>plectin isoform 1a</td>\n      <td>1.111370</td>\n      <td>2.650422</td>\n      <td>-0.654285</td>\n      <td>0.215413</td>\n      <td>-0.500619</td>\n      <td>2.779709</td>\n      <td>0.870186</td>\n      <td>...</td>\n      <td>-0.943919</td>\n      <td>-0.487772</td>\n      <td>-0.10668</td>\n      <td>-0.065838</td>\n      <td>0.655850</td>\n      <td>-0.552212</td>\n      <td>-0.392601</td>\n      <td>0.603993</td>\n      <td>-0.186022</td>\n      <td>0.576747</td>\n    </tr>\n    <tr>\n      <th>3</th>\n      <td>NP_000436</td>\n      <td>NaN</td>\n      <td>plectin isoform 1c</td>\n      <td>1.107561</td>\n      <td>2.646374</td>\n      <td>-0.632113</td>\n      <td>0.205377</td>\n      <td>-0.510459</td>\n      <td>2.797995</td>\n      <td>0.866423</td>\n      <td>...</td>\n      <td>-0.935355</td>\n      <td>-0.487772</td>\n      <td>-0.10668</td>\n      <td>-0.055893</td>\n      <td>0.655850</td>\n      <td>-0.552212</td>\n      <td>-0.392601</td>\n      <td>0.603993</td>\n      <td>-0.186022</td>\n      <td>0.576747</td>\n    </tr>\n    <tr>\n      <th>4</th>\n      <td>NP_958781</td>\n      <td>NaN</td>\n      <td>plectin isoform 1e</td>\n      <td>1.115180</td>\n      <td>2.646374</td>\n      <td>-0.640428</td>\n      <td>0.215413</td>\n      <td>-0.503899</td>\n      <td>2.787023</td>\n      <td>0.870186</td>\n      <td>...</td>\n      <td>-0.935355</td>\n      <td>-0.503853</td>\n      <td>-0.10668</td>\n      <td>-0.062523</td>\n      <td>0.651264</td>\n      <td>-0.556675</td>\n      <td>-0.395581</td>\n      <td>0.603993</td>\n      <td>-0.167079</td>\n      <td>0.576747</td>\n    </tr>\n  </tbody>\n</table>\n<p>5 rows × 86 columns</p>\n</div>"
     },
     "execution_count": 74,
     "metadata": {},
     "output_type": "execute_result"
    }
   ],
   "source": [
    "df_77proteomes =pd.read_csv(\"./data/77_cancer_proteomes_CPTAC_itraq.csv\")\n",
    "df_77proteomes.head()"
   ],
   "metadata": {
    "collapsed": false
   }
  },
  {
   "cell_type": "code",
   "execution_count": 75,
   "outputs": [
    {
     "data": {
      "text/plain": "  refseq_accession_number gene_symbol           gene_name  ao_a12d_01tcga  \\\n0               NP_958782        PLEC   plectin isoform 1        1.096131   \n1               NP_958785         NaN  plectin isoform 1g        1.111370   \n2               NP_958786        PLEC  plectin isoform 1a        1.111370   \n3               NP_000436         NaN  plectin isoform 1c        1.107561   \n4               NP_958781         NaN  plectin isoform 1e        1.115180   \n\n   c8_a131_01tcga  ao_a12b_01tcga  bh_a18q_02tcga  c8_a130_02tcga  \\\n0        2.609943       -0.659828        0.195341       -0.494060   \n1        2.650422       -0.648742        0.215413       -0.503899   \n2        2.650422       -0.654285        0.215413       -0.500619   \n3        2.646374       -0.632113        0.205377       -0.510459   \n4        2.646374       -0.640428        0.215413       -0.503899   \n\n   c8_a138_03tcga  e2_a154_03tcga  ...  ao_a12b_34tcga  a2_a0sw_35tcga  \\\n0        2.765081        0.862659  ...       -0.963904       -0.487772   \n1        2.779709        0.870186  ...       -0.938210       -0.487772   \n2        2.779709        0.870186  ...       -0.943919       -0.487772   \n3        2.797995        0.866423  ...       -0.935355       -0.487772   \n4        2.787023        0.870186  ...       -0.935355       -0.503853   \n\n   ao_a0jl_35tcga  bh_a0bv_35tcga  a2_a0ym_36tcga  bh_a0c7_36tcga  \\\n0        -0.10668       -0.065838        0.655850       -0.552212   \n1        -0.10668       -0.055893        0.658143       -0.547749   \n2        -0.10668       -0.065838        0.655850       -0.552212   \n3        -0.10668       -0.055893        0.655850       -0.552212   \n4        -0.10668       -0.062523        0.651264       -0.556675   \n\n   a2_a0sx_36tcga  263d3f_i_cptac  blcdb9_i_cptac  c4155b_c_cptac  \n0       -0.398560        0.598585       -0.191285        0.566975  \n1       -0.392601        0.606697       -0.183918        0.578702  \n2       -0.392601        0.603993       -0.186022        0.576747  \n3       -0.392601        0.603993       -0.186022        0.576747  \n4       -0.395581        0.603993       -0.167079        0.576747  \n\n[5 rows x 86 columns]",
      "text/html": "<div>\n<style scoped>\n    .dataframe tbody tr th:only-of-type {\n        vertical-align: middle;\n    }\n\n    .dataframe tbody tr th {\n        vertical-align: top;\n    }\n\n    .dataframe thead th {\n        text-align: right;\n    }\n</style>\n<table border=\"1\" class=\"dataframe\">\n  <thead>\n    <tr style=\"text-align: right;\">\n      <th></th>\n      <th>refseq_accession_number</th>\n      <th>gene_symbol</th>\n      <th>gene_name</th>\n      <th>ao_a12d_01tcga</th>\n      <th>c8_a131_01tcga</th>\n      <th>ao_a12b_01tcga</th>\n      <th>bh_a18q_02tcga</th>\n      <th>c8_a130_02tcga</th>\n      <th>c8_a138_03tcga</th>\n      <th>e2_a154_03tcga</th>\n      <th>...</th>\n      <th>ao_a12b_34tcga</th>\n      <th>a2_a0sw_35tcga</th>\n      <th>ao_a0jl_35tcga</th>\n      <th>bh_a0bv_35tcga</th>\n      <th>a2_a0ym_36tcga</th>\n      <th>bh_a0c7_36tcga</th>\n      <th>a2_a0sx_36tcga</th>\n      <th>263d3f_i_cptac</th>\n      <th>blcdb9_i_cptac</th>\n      <th>c4155b_c_cptac</th>\n    </tr>\n  </thead>\n  <tbody>\n    <tr>\n      <th>0</th>\n      <td>NP_958782</td>\n      <td>PLEC</td>\n      <td>plectin isoform 1</td>\n      <td>1.096131</td>\n      <td>2.609943</td>\n      <td>-0.659828</td>\n      <td>0.195341</td>\n      <td>-0.494060</td>\n      <td>2.765081</td>\n      <td>0.862659</td>\n      <td>...</td>\n      <td>-0.963904</td>\n      <td>-0.487772</td>\n      <td>-0.10668</td>\n      <td>-0.065838</td>\n      <td>0.655850</td>\n      <td>-0.552212</td>\n      <td>-0.398560</td>\n      <td>0.598585</td>\n      <td>-0.191285</td>\n      <td>0.566975</td>\n    </tr>\n    <tr>\n      <th>1</th>\n      <td>NP_958785</td>\n      <td>NaN</td>\n      <td>plectin isoform 1g</td>\n      <td>1.111370</td>\n      <td>2.650422</td>\n      <td>-0.648742</td>\n      <td>0.215413</td>\n      <td>-0.503899</td>\n      <td>2.779709</td>\n      <td>0.870186</td>\n      <td>...</td>\n      <td>-0.938210</td>\n      <td>-0.487772</td>\n      <td>-0.10668</td>\n      <td>-0.055893</td>\n      <td>0.658143</td>\n      <td>-0.547749</td>\n      <td>-0.392601</td>\n      <td>0.606697</td>\n      <td>-0.183918</td>\n      <td>0.578702</td>\n    </tr>\n    <tr>\n      <th>2</th>\n      <td>NP_958786</td>\n      <td>PLEC</td>\n      <td>plectin isoform 1a</td>\n      <td>1.111370</td>\n      <td>2.650422</td>\n      <td>-0.654285</td>\n      <td>0.215413</td>\n      <td>-0.500619</td>\n      <td>2.779709</td>\n      <td>0.870186</td>\n      <td>...</td>\n      <td>-0.943919</td>\n      <td>-0.487772</td>\n      <td>-0.10668</td>\n      <td>-0.065838</td>\n      <td>0.655850</td>\n      <td>-0.552212</td>\n      <td>-0.392601</td>\n      <td>0.603993</td>\n      <td>-0.186022</td>\n      <td>0.576747</td>\n    </tr>\n    <tr>\n      <th>3</th>\n      <td>NP_000436</td>\n      <td>NaN</td>\n      <td>plectin isoform 1c</td>\n      <td>1.107561</td>\n      <td>2.646374</td>\n      <td>-0.632113</td>\n      <td>0.205377</td>\n      <td>-0.510459</td>\n      <td>2.797995</td>\n      <td>0.866423</td>\n      <td>...</td>\n      <td>-0.935355</td>\n      <td>-0.487772</td>\n      <td>-0.10668</td>\n      <td>-0.055893</td>\n      <td>0.655850</td>\n      <td>-0.552212</td>\n      <td>-0.392601</td>\n      <td>0.603993</td>\n      <td>-0.186022</td>\n      <td>0.576747</td>\n    </tr>\n    <tr>\n      <th>4</th>\n      <td>NP_958781</td>\n      <td>NaN</td>\n      <td>plectin isoform 1e</td>\n      <td>1.115180</td>\n      <td>2.646374</td>\n      <td>-0.640428</td>\n      <td>0.215413</td>\n      <td>-0.503899</td>\n      <td>2.787023</td>\n      <td>0.870186</td>\n      <td>...</td>\n      <td>-0.935355</td>\n      <td>-0.503853</td>\n      <td>-0.10668</td>\n      <td>-0.062523</td>\n      <td>0.651264</td>\n      <td>-0.556675</td>\n      <td>-0.395581</td>\n      <td>0.603993</td>\n      <td>-0.167079</td>\n      <td>0.576747</td>\n    </tr>\n  </tbody>\n</table>\n<p>5 rows × 86 columns</p>\n</div>"
     },
     "execution_count": 75,
     "metadata": {},
     "output_type": "execute_result"
    }
   ],
   "source": [
    "df_77proteomes.columns = transform_columns(df_77proteomes.columns)\n",
    "df_77proteomes.head()"
   ],
   "metadata": {
    "collapsed": false
   }
  },
  {
   "cell_type": "code",
   "execution_count": 76,
   "outputs": [
    {
     "data": {
      "text/plain": "  refseq_accession_number gene_symbol           gene_name  ao_a12d_01tcga  \\\n0               NP_958782        PLEC   plectin isoform 1        1.096131   \n1               NP_958785         NaN  plectin isoform 1g        1.111370   \n2               NP_958786        PLEC  plectin isoform 1a        1.111370   \n3               NP_000436         NaN  plectin isoform 1c        1.107561   \n4               NP_958781         NaN  plectin isoform 1e        1.115180   \n\n   c8_a131_01tcga  ao_a12b_01tcga  bh_a18q_02tcga  c8_a130_02tcga  \\\n0        2.609943       -0.659828        0.195341       -0.494060   \n1        2.650422       -0.648742        0.215413       -0.503899   \n2        2.650422       -0.654285        0.215413       -0.500619   \n3        2.646374       -0.632113        0.205377       -0.510459   \n4        2.646374       -0.640428        0.215413       -0.503899   \n\n   c8_a138_03tcga  e2_a154_03tcga  ...  ao_a12b_34tcga  a2_a0sw_35tcga  \\\n0        2.765081        0.862659  ...       -0.963904       -0.487772   \n1        2.779709        0.870186  ...       -0.938210       -0.487772   \n2        2.779709        0.870186  ...       -0.943919       -0.487772   \n3        2.797995        0.866423  ...       -0.935355       -0.487772   \n4        2.787023        0.870186  ...       -0.935355       -0.503853   \n\n   ao_a0jl_35tcga  bh_a0bv_35tcga  a2_a0ym_36tcga  bh_a0c7_36tcga  \\\n0        -0.10668       -0.065838        0.655850       -0.552212   \n1        -0.10668       -0.055893        0.658143       -0.547749   \n2        -0.10668       -0.065838        0.655850       -0.552212   \n3        -0.10668       -0.055893        0.655850       -0.552212   \n4        -0.10668       -0.062523        0.651264       -0.556675   \n\n   a2_a0sx_36tcga  263d3f_i_cptac  blcdb9_i_cptac  c4155b_c_cptac  \n0       -0.398560        0.598585       -0.191285        0.566975  \n1       -0.392601        0.606697       -0.183918        0.578702  \n2       -0.392601        0.603993       -0.186022        0.576747  \n3       -0.392601        0.603993       -0.186022        0.576747  \n4       -0.395581        0.603993       -0.167079        0.576747  \n\n[5 rows x 86 columns]",
      "text/html": "<div>\n<style scoped>\n    .dataframe tbody tr th:only-of-type {\n        vertical-align: middle;\n    }\n\n    .dataframe tbody tr th {\n        vertical-align: top;\n    }\n\n    .dataframe thead th {\n        text-align: right;\n    }\n</style>\n<table border=\"1\" class=\"dataframe\">\n  <thead>\n    <tr style=\"text-align: right;\">\n      <th></th>\n      <th>refseq_accession_number</th>\n      <th>gene_symbol</th>\n      <th>gene_name</th>\n      <th>ao_a12d_01tcga</th>\n      <th>c8_a131_01tcga</th>\n      <th>ao_a12b_01tcga</th>\n      <th>bh_a18q_02tcga</th>\n      <th>c8_a130_02tcga</th>\n      <th>c8_a138_03tcga</th>\n      <th>e2_a154_03tcga</th>\n      <th>...</th>\n      <th>ao_a12b_34tcga</th>\n      <th>a2_a0sw_35tcga</th>\n      <th>ao_a0jl_35tcga</th>\n      <th>bh_a0bv_35tcga</th>\n      <th>a2_a0ym_36tcga</th>\n      <th>bh_a0c7_36tcga</th>\n      <th>a2_a0sx_36tcga</th>\n      <th>263d3f_i_cptac</th>\n      <th>blcdb9_i_cptac</th>\n      <th>c4155b_c_cptac</th>\n    </tr>\n  </thead>\n  <tbody>\n    <tr>\n      <th>0</th>\n      <td>NP_958782</td>\n      <td>PLEC</td>\n      <td>plectin isoform 1</td>\n      <td>1.096131</td>\n      <td>2.609943</td>\n      <td>-0.659828</td>\n      <td>0.195341</td>\n      <td>-0.494060</td>\n      <td>2.765081</td>\n      <td>0.862659</td>\n      <td>...</td>\n      <td>-0.963904</td>\n      <td>-0.487772</td>\n      <td>-0.10668</td>\n      <td>-0.065838</td>\n      <td>0.655850</td>\n      <td>-0.552212</td>\n      <td>-0.398560</td>\n      <td>0.598585</td>\n      <td>-0.191285</td>\n      <td>0.566975</td>\n    </tr>\n    <tr>\n      <th>1</th>\n      <td>NP_958785</td>\n      <td>NaN</td>\n      <td>plectin isoform 1g</td>\n      <td>1.111370</td>\n      <td>2.650422</td>\n      <td>-0.648742</td>\n      <td>0.215413</td>\n      <td>-0.503899</td>\n      <td>2.779709</td>\n      <td>0.870186</td>\n      <td>...</td>\n      <td>-0.938210</td>\n      <td>-0.487772</td>\n      <td>-0.10668</td>\n      <td>-0.055893</td>\n      <td>0.658143</td>\n      <td>-0.547749</td>\n      <td>-0.392601</td>\n      <td>0.606697</td>\n      <td>-0.183918</td>\n      <td>0.578702</td>\n    </tr>\n    <tr>\n      <th>2</th>\n      <td>NP_958786</td>\n      <td>PLEC</td>\n      <td>plectin isoform 1a</td>\n      <td>1.111370</td>\n      <td>2.650422</td>\n      <td>-0.654285</td>\n      <td>0.215413</td>\n      <td>-0.500619</td>\n      <td>2.779709</td>\n      <td>0.870186</td>\n      <td>...</td>\n      <td>-0.943919</td>\n      <td>-0.487772</td>\n      <td>-0.10668</td>\n      <td>-0.065838</td>\n      <td>0.655850</td>\n      <td>-0.552212</td>\n      <td>-0.392601</td>\n      <td>0.603993</td>\n      <td>-0.186022</td>\n      <td>0.576747</td>\n    </tr>\n    <tr>\n      <th>3</th>\n      <td>NP_000436</td>\n      <td>NaN</td>\n      <td>plectin isoform 1c</td>\n      <td>1.107561</td>\n      <td>2.646374</td>\n      <td>-0.632113</td>\n      <td>0.205377</td>\n      <td>-0.510459</td>\n      <td>2.797995</td>\n      <td>0.866423</td>\n      <td>...</td>\n      <td>-0.935355</td>\n      <td>-0.487772</td>\n      <td>-0.10668</td>\n      <td>-0.055893</td>\n      <td>0.655850</td>\n      <td>-0.552212</td>\n      <td>-0.392601</td>\n      <td>0.603993</td>\n      <td>-0.186022</td>\n      <td>0.576747</td>\n    </tr>\n    <tr>\n      <th>4</th>\n      <td>NP_958781</td>\n      <td>NaN</td>\n      <td>plectin isoform 1e</td>\n      <td>1.115180</td>\n      <td>2.646374</td>\n      <td>-0.640428</td>\n      <td>0.215413</td>\n      <td>-0.503899</td>\n      <td>2.787023</td>\n      <td>0.870186</td>\n      <td>...</td>\n      <td>-0.935355</td>\n      <td>-0.503853</td>\n      <td>-0.10668</td>\n      <td>-0.062523</td>\n      <td>0.651264</td>\n      <td>-0.556675</td>\n      <td>-0.395581</td>\n      <td>0.603993</td>\n      <td>-0.167079</td>\n      <td>0.576747</td>\n    </tr>\n  </tbody>\n</table>\n<p>5 rows × 86 columns</p>\n</div>"
     },
     "execution_count": 76,
     "metadata": {},
     "output_type": "execute_result"
    }
   ],
   "source": [
    "df_77proteomes.to_csv(\"./data/77_cancer_proteomes_CPTAC_itraq_with_columns.csv\", index=False)\n",
    "read_df_77proteomes = pd.read_csv(\"./data/77_cancer_proteomes_CPTAC_itraq_with_columns.csv\")\n",
    "read_df_77proteomes.head()"
   ],
   "metadata": {
    "collapsed": false
   }
  },
  {
   "cell_type": "code",
   "execution_count": 76,
   "outputs": [],
   "source": [],
   "metadata": {
    "collapsed": false
   }
  }
 ],
 "metadata": {
  "kernelspec": {
   "display_name": "Python 3",
   "language": "python",
   "name": "python3"
  },
  "language_info": {
   "codemirror_mode": {
    "name": "ipython",
    "version": 2
   },
   "file_extension": ".py",
   "mimetype": "text/x-python",
   "name": "python",
   "nbconvert_exporter": "python",
   "pygments_lexer": "ipython2",
   "version": "2.7.6"
  }
 },
 "nbformat": 4,
 "nbformat_minor": 0
}
